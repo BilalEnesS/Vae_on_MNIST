{
  "nbformat": 4,
  "nbformat_minor": 0,
  "metadata": {
    "colab": {
      "provenance": []
    },
    "kernelspec": {
      "name": "python3",
      "display_name": "Python 3"
    },
    "language_info": {
      "name": "python"
    }
  },
  "cells": [
    {
      "cell_type": "markdown",
      "source": [
        "**Variational Autoencoder and Convolutional Neural Network Classifier for Digit Generation and Classification on MNIST**"
      ],
      "metadata": {
        "id": "BpMqCmQLBT7M"
      }
    },
    {
      "cell_type": "markdown",
      "source": [
        "This code utilizes a Variational Autoencoder (VAE) model to encode and decode images from the MNIST dataset, creating a compressed latent representation of each digit and reconstructing it. Additionally, a Convolutional Neural Network (CNN) classifier is trained on MNIST to classify generated digits. After training, the code enables generating new digits by sampling the latent space and classifying these new images with the CNN model. The generated digits are displayed along with their predicted classification, highlighting the combined use of generative and discriminative models."
      ],
      "metadata": {
        "id": "9uxL8aYZB91z"
      }
    },
    {
      "cell_type": "code",
      "execution_count": null,
      "metadata": {
        "id": "_n9ZdAh3NxBc"
      },
      "outputs": [],
      "source": [
        "import torch\n",
        "import torch.nn as nn\n",
        "import torch.optim as optim\n",
        "from torchvision import datasets, transforms\n",
        "from torch.utils.data import DataLoader\n",
        "import matplotlib.pyplot as plt"
      ]
    },
    {
      "cell_type": "code",
      "source": [
        "# Hyperparameters\n",
        "input_dim = 784\n",
        "hidden_dim = 400\n",
        "latent_dim = 20\n",
        "batch_size = 64\n",
        "learning_rate = 1e-3\n",
        "epochs = 15\n"
      ],
      "metadata": {
        "id": "Pp6s3cpzOkR9"
      },
      "execution_count": null,
      "outputs": []
    },
    {
      "cell_type": "code",
      "source": [
        "# MNIST dataset\n",
        "transform = transforms.Compose([\n",
        "    transforms.ToTensor(),\n",
        "    transforms.Normalize((0.5,), (0.5,))\n",
        "])\n",
        "train_dataset = datasets.MNIST(root='./data', train=True, download=True, transform=transform)\n",
        "train_loader = DataLoader(dataset=train_dataset, batch_size=batch_size, shuffle=True)\n"
      ],
      "metadata": {
        "colab": {
          "base_uri": "https://localhost:8080/"
        },
        "id": "24vUoamlOkGn",
        "outputId": "6ed0d9b4-b3ef-4195-ff6d-1d2ad618b2d4"
      },
      "execution_count": null,
      "outputs": [
        {
          "output_type": "stream",
          "name": "stdout",
          "text": [
            "Downloading http://yann.lecun.com/exdb/mnist/train-images-idx3-ubyte.gz\n",
            "Failed to download (trying next):\n",
            "HTTP Error 503: Service Unavailable\n",
            "\n",
            "Downloading https://ossci-datasets.s3.amazonaws.com/mnist/train-images-idx3-ubyte.gz\n",
            "Downloading https://ossci-datasets.s3.amazonaws.com/mnist/train-images-idx3-ubyte.gz to ./data/MNIST/raw/train-images-idx3-ubyte.gz\n"
          ]
        },
        {
          "output_type": "stream",
          "name": "stderr",
          "text": [
            "100%|██████████| 9912422/9912422 [00:01<00:00, 5516277.78it/s]\n"
          ]
        },
        {
          "output_type": "stream",
          "name": "stdout",
          "text": [
            "Extracting ./data/MNIST/raw/train-images-idx3-ubyte.gz to ./data/MNIST/raw\n",
            "\n",
            "Downloading http://yann.lecun.com/exdb/mnist/train-labels-idx1-ubyte.gz\n",
            "Downloading http://yann.lecun.com/exdb/mnist/train-labels-idx1-ubyte.gz to ./data/MNIST/raw/train-labels-idx1-ubyte.gz\n"
          ]
        },
        {
          "output_type": "stream",
          "name": "stderr",
          "text": [
            "100%|██████████| 28881/28881 [00:00<00:00, 160990.72it/s]\n"
          ]
        },
        {
          "output_type": "stream",
          "name": "stdout",
          "text": [
            "Extracting ./data/MNIST/raw/train-labels-idx1-ubyte.gz to ./data/MNIST/raw\n",
            "\n",
            "Downloading http://yann.lecun.com/exdb/mnist/t10k-images-idx3-ubyte.gz\n",
            "Downloading http://yann.lecun.com/exdb/mnist/t10k-images-idx3-ubyte.gz to ./data/MNIST/raw/t10k-images-idx3-ubyte.gz\n"
          ]
        },
        {
          "output_type": "stream",
          "name": "stderr",
          "text": [
            "100%|██████████| 1648877/1648877 [00:49<00:00, 33313.17it/s]\n"
          ]
        },
        {
          "output_type": "stream",
          "name": "stdout",
          "text": [
            "Extracting ./data/MNIST/raw/t10k-images-idx3-ubyte.gz to ./data/MNIST/raw\n",
            "\n",
            "Downloading http://yann.lecun.com/exdb/mnist/t10k-labels-idx1-ubyte.gz\n",
            "Downloading http://yann.lecun.com/exdb/mnist/t10k-labels-idx1-ubyte.gz to ./data/MNIST/raw/t10k-labels-idx1-ubyte.gz\n"
          ]
        },
        {
          "output_type": "stream",
          "name": "stderr",
          "text": [
            "100%|██████████| 4542/4542 [00:00<00:00, 10519342.22it/s]"
          ]
        },
        {
          "output_type": "stream",
          "name": "stdout",
          "text": [
            "Extracting ./data/MNIST/raw/t10k-labels-idx1-ubyte.gz to ./data/MNIST/raw\n",
            "\n"
          ]
        },
        {
          "output_type": "stream",
          "name": "stderr",
          "text": [
            "\n"
          ]
        }
      ]
    },
    {
      "cell_type": "code",
      "source": [
        "# VAE model\n",
        "class VAE(nn.Module):\n",
        "    def __init__(self):\n",
        "        super(VAE, self).__init__()\n",
        "        # Encoder\n",
        "        self.fc1 = nn.Linear(input_dim, hidden_dim)\n",
        "        self.fc2_mean = nn.Linear(hidden_dim, latent_dim)\n",
        "        self.fc2_logvar = nn.Linear(hidden_dim, latent_dim)\n",
        "        # Decoder\n",
        "        self.fc3 = nn.Linear(latent_dim, hidden_dim)\n",
        "        self.fc4 = nn.Linear(hidden_dim, input_dim)\n",
        "\n",
        "    def encode(self, x):\n",
        "        h = torch.relu(self.fc1(x))\n",
        "        return self.fc2_mean(h), self.fc2_logvar(h)\n",
        "\n",
        "    def reparameterize(self, mean, logvar):\n",
        "        std = torch.exp(0.5 * logvar)\n",
        "        eps = torch.randn_like(std)\n",
        "        return mean + eps * std\n",
        "\n",
        "    def decode(self, z):\n",
        "        h = torch.relu(self.fc3(z))\n",
        "        return torch.sigmoid(self.fc4(h))\n",
        "\n",
        "    def forward(self, x):\n",
        "        mean, logvar = self.encode(x.view(-1, 784))\n",
        "        z = self.reparameterize(mean, logvar)\n",
        "        return self.decode(z), mean, logvar\n"
      ],
      "metadata": {
        "id": "eBv2V3UGPofi"
      },
      "execution_count": null,
      "outputs": []
    },
    {
      "cell_type": "code",
      "source": [
        "model = VAE().to(device)\n",
        "optimizer = optim.Adam(model.parameters(), lr=learning_rate)"
      ],
      "metadata": {
        "id": "qG9Ogs0zRWB_"
      },
      "execution_count": null,
      "outputs": []
    },
    {
      "cell_type": "code",
      "source": [
        "def loss_function(recon_x, x, mean, logvar):\n",
        "\n",
        "    x_adjusted = (x.view(-1, 784) + 1) / 2\n",
        "    BCE = nn.functional.binary_cross_entropy(recon_x, x_adjusted, reduction='sum')\n",
        "    KLD = -0.5 * torch.sum(1 + logvar - mean.pow(2) - logvar.exp())\n",
        "    return BCE + KLD\n"
      ],
      "metadata": {
        "id": "6hz03qXKRYHE"
      },
      "execution_count": null,
      "outputs": []
    },
    {
      "cell_type": "code",
      "source": [
        "# Training function\n",
        "def train(model, train_loader):\n",
        "    model.train()\n",
        "    train_loss = 0\n",
        "    for batch_idx, (data, _) in enumerate(train_loader):\n",
        "        data = data.to(device)\n",
        "        optimizer.zero_grad()\n",
        "        recon_batch, mean, logvar = model(data)\n",
        "        loss = loss_function(recon_batch, data, mean, logvar)\n",
        "        loss.backward()\n",
        "        train_loss += loss.item()\n",
        "        optimizer.step()\n",
        "\n",
        "    average_loss = train_loss / len(train_loader.dataset)\n",
        "    print(f'===> Epoch: Average Loss: {average_loss:.4f}')"
      ],
      "metadata": {
        "id": "lVHlg1gHRapt"
      },
      "execution_count": null,
      "outputs": []
    },
    {
      "cell_type": "code",
      "source": [
        "# Training the VAE\n",
        "for epoch in range(epochs):\n",
        "    train(model, train_loader)\n"
      ],
      "metadata": {
        "colab": {
          "base_uri": "https://localhost:8080/"
        },
        "id": "TcEdjNsRRdRf",
        "outputId": "2a303643-a7b1-48e6-c003-282881514477"
      },
      "execution_count": null,
      "outputs": [
        {
          "output_type": "stream",
          "name": "stdout",
          "text": [
            "===> Epoch: Average Loss: 143.8856\n",
            "===> Epoch: Average Loss: 117.7836\n",
            "===> Epoch: Average Loss: 113.5159\n",
            "===> Epoch: Average Loss: 111.4895\n",
            "===> Epoch: Average Loss: 110.2355\n",
            "===> Epoch: Average Loss: 109.2820\n",
            "===> Epoch: Average Loss: 108.7022\n",
            "===> Epoch: Average Loss: 108.1144\n",
            "===> Epoch: Average Loss: 107.7298\n",
            "===> Epoch: Average Loss: 107.2842\n",
            "===> Epoch: Average Loss: 107.0199\n",
            "===> Epoch: Average Loss: 106.7059\n",
            "===> Epoch: Average Loss: 106.5419\n",
            "===> Epoch: Average Loss: 106.3244\n",
            "===> Epoch: Average Loss: 106.0498\n"
          ]
        }
      ]
    },
    {
      "cell_type": "code",
      "source": [
        "import torch.nn.functional as F\n",
        "\n",
        "class MNISTClassifier(nn.Module):\n",
        "    def __init__(self):\n",
        "        super(MNISTClassifier, self).__init__()\n",
        "        self.conv1 = nn.Conv2d(1, 32, kernel_size=5)\n",
        "        self.conv2 = nn.Conv2d(32, 64, kernel_size=5)\n",
        "        self.fc1 = nn.Linear(1024, 128)\n",
        "        self.fc2 = nn.Linear(128, 10)\n",
        "\n",
        "    def forward(self, x):\n",
        "        x = F.relu(F.max_pool2d(self.conv1(x), 2))\n",
        "        x = F.relu(F.max_pool2d(self.conv2(x), 2))\n",
        "        x = x.view(-1, 1024)\n",
        "        x = F.relu(self.fc1(x))\n",
        "        x = self.fc2(x)\n",
        "        return F.log_softmax(x, dim=1)\n",
        "\n",
        "# Training the classifier\n",
        "def train_classifier(model, device, train_loader, optimizer, epochs=5):\n",
        "    model.train()\n",
        "    for epoch in range(epochs):\n",
        "        for batch_idx, (data, target) in enumerate(train_loader):\n",
        "            data, target = data.to(device), target.to(device)\n",
        "            optimizer.zero_grad()\n",
        "            output = model(data)\n",
        "            loss = F.nll_loss(output, target)\n",
        "            loss.backward()\n",
        "            optimizer.step()\n",
        "        print(f'Epoch {epoch + 1}, Loss: {loss.item()}')\n",
        "\n",
        "classifier = MNISTClassifier().to(device)\n",
        "optimizer = optim.Adam(classifier.parameters(), lr=0.001)\n",
        "train_classifier(classifier, device, train_loader, optimizer, epochs=5)\n"
      ],
      "metadata": {
        "colab": {
          "base_uri": "https://localhost:8080/"
        },
        "id": "6hUMXSOVVgGs",
        "outputId": "c25a9552-6daa-47cc-c32f-52c030d7a177"
      },
      "execution_count": null,
      "outputs": [
        {
          "output_type": "stream",
          "name": "stdout",
          "text": [
            "Epoch 1, Loss: 0.05064549669623375\n",
            "Epoch 2, Loss: 0.07287675887346268\n",
            "Epoch 3, Loss: 0.013592639937996864\n",
            "Epoch 4, Loss: 0.0009322725236415863\n",
            "Epoch 5, Loss: 0.003660476068034768\n"
          ]
        }
      ]
    },
    {
      "cell_type": "code",
      "source": [
        "def generate_digit(model, classifier):\n",
        "    model.eval()\n",
        "    classifier.eval()\n",
        "    with torch.no_grad():\n",
        "        z = torch.randn(1, latent_dim).to(device)\n",
        "        sample = model.decode(z).to(device)\n",
        "        plt.figure(figsize=(3, 3))\n",
        "        plt.imshow(sample.view(28, 28).cpu().numpy(), cmap='gray')\n",
        "        plt.title(\"Generated Digit\")\n",
        "        plt.show()\n",
        "\n",
        "\n",
        "        pred = classifier(sample.view(1, 1, 28, 28))\n",
        "        predicted_digit = pred.argmax(dim=1, keepdim=True).item()\n",
        "        print(f\"The predicted digit is: {predicted_digit}\")\n",
        "\n",
        "# Generate a new digit and predict\n",
        "generate_digit(model, classifier)\n",
        "\n"
      ],
      "metadata": {
        "colab": {
          "base_uri": "https://localhost:8080/",
          "height": 331
        },
        "id": "_GjNmqGtVnXq",
        "outputId": "348ff2ea-24c1-4d06-f958-ef11046afb84"
      },
      "execution_count": null,
      "outputs": [
        {
          "output_type": "display_data",
          "data": {
            "text/plain": [
              "<Figure size 300x300 with 1 Axes>"
            ],
            "image/png": "[encoded data removed]"
          },
          "metadata": {}
        },
        {
          "output_type": "stream",
          "name": "stdout",
          "text": [
            "The predicted digit is: 8\n"
          ]
        }
      ]
    },
    {
      "cell_type": "code",
      "source": [
        "def generate_digit(model):\n",
        "    model.eval()\n",
        "    with torch.no_grad():\n",
        "        z = torch.randn(1, latent_dim).to(device)\n",
        "        sample = model.decode(z).cpu()\n",
        "        plt.figure(figsize=(3, 3))\n",
        "        plt.imshow(sample.view(28, 28), cmap='gray')\n",
        "        plt.show()\n",
        "\n",
        "# Generate a new digit\n",
        "generate_digit(model)"
      ],
      "metadata": {
        "colab": {
          "base_uri": "https://localhost:8080/",
          "height": 293
        },
        "id": "d4jRsQulR9hZ",
        "outputId": "f5f95cc1-ca49-4b0f-ced1-e6b630344324"
      },
      "execution_count": null,
      "outputs": [
        {
          "output_type": "display_data",
          "data": {
            "text/plain": [
              "<Figure size 300x300 with 1 Axes>"
            ],
            "image/png": "[encoded data removed]"
          },
          "metadata": {}
        }
      ]
    }
  ]
}